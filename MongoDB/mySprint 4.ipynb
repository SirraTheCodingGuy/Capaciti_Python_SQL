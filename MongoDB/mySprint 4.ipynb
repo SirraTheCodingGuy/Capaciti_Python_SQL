{
 "cells": [
  {
   "cell_type": "code",
   "execution_count": 15,
   "metadata": {},
   "outputs": [],
   "source": [
    "import pymongo\n",
    "\n",
    "myclient = pymongo.MongoClient(\"mongodb://localhost:27017/\")\n",
    "\n",
    "mydb = myclient[\"DataTracker\"]"
   ]
  },
  {
   "cell_type": "code",
   "execution_count": 16,
   "metadata": {},
   "outputs": [],
   "source": [
    "#Create a collection for your top 3 products in MongoDB\n",
    "myclient = pymongo.MongoClient(\"mongodb://localhost:27017/\")\n",
    "mydb = myclient[\"DataTracker\"]\n",
    "mycol = mydb[\"top_3_products\"]"
   ]
  },
  {
   "cell_type": "code",
   "execution_count": 14,
   "metadata": {},
   "outputs": [
    {
     "name": "stdout",
     "output_type": "stream",
     "text": [
      "{'_id': ObjectId('5e91cdecdcf10852e521da4b'), 'brand': 'lays', 'product': 'chips'}\n",
      "{'_id': ObjectId('5e91cdecdcf10852e521da4c'), 'brand': 'Pringles', 'product': 'chips'}\n",
      "{'_id': ObjectId('5e91cdecdcf10852e521da4d'), 'brand': 'Doritos', 'product': 'chips'}\n",
      "{'_id': ObjectId('5e91cdecdcf10852e521da4e'), 'brand': 'Simba', 'product': 'chips'}\n",
      "{'_id': ObjectId('5e91cdecdcf10852e521da4f'), 'brand': 'Big Korn Bites', 'product': 'chips'}\n",
      "{'_id': ObjectId('5e91d189dcf10852e521da52'), 'brand': 'Dell', 'product': 'Laptop'}\n",
      "{'_id': ObjectId('5e91d189dcf10852e521da53'), 'brand': 'Apple', 'product': 'Cellphone'}\n",
      "{'_id': ObjectId('5e91d189dcf10852e521da54'), 'brand': 'Hp', 'product': 'Desktops'}\n",
      "{'_id': ObjectId('5e91d189dcf10852e521da55'), 'brand': 'Sony', 'product': 'Speakers'}\n",
      "{'_id': ObjectId('5e91d189dcf10852e521da56'), 'brand': 'LG', 'product': 'Radio'}\n"
     ]
    }
   ],
   "source": [
    "#Add your SPRINT 3 products file to MongoDB you just created\n",
    "import pymongo\n",
    "import pandas as pd\n",
    "\n",
    "myclient = pymongo.MongoClient(\"mongodb://localhost:27017/\")\n",
    "\n",
    "mydb = myclient[\"DataTracker\"]\n",
    "mycol = mydb[\"product\"]\n",
    "for x in mycol.find():\n",
    "    print(x)"
   ]
  },
  {
   "cell_type": "code",
   "execution_count": 17,
   "metadata": {},
   "outputs": [
    {
     "name": "stdout",
     "output_type": "stream",
     "text": [
      "[ObjectId('5e91d4d8dcf10852e521da5b'), ObjectId('5e91d4d8dcf10852e521da5c'), ObjectId('5e91d4d8dcf10852e521da5d'), ObjectId('5e91d4d8dcf10852e521da5e'), ObjectId('5e91d4d8dcf10852e521da5f')]\n"
     ]
    }
   ],
   "source": [
    "#Insert multiple documents into your collections in question\n",
    "myclient = pymongo.MongoClient(\"mongodb://localhost:27017/\")   \n",
    "\n",
    "mydb = myclient[\"DataTracker\"]                       \n",
    "\n",
    "mycol = mydb[\"product\"]\n",
    "\n",
    "mylist = [            \n",
    "\n",
    " {\"brand\": \"Dell\",  \"product\": \"Laptop\" },\n",
    " {\"brand\": \"Apple\", \"product\": \"Cellphones\" },\n",
    " {\"brand\": \"Hp\",    \"product\": \"Desktops\" },\n",
    " {\"brand\": \"Sony\",  \"product\": \"Speakers\" },\n",
    " {\"brand\": \"LG\",    \"product\": \"Radios\"}\n",
    " \n",
    "]\n",
    "\n",
    "x = mycol.insert_many(mylist)\n",
    "\n",
    "\n",
    "print(x.inserted_ids)\n"
   ]
  },
  {
   "cell_type": "code",
   "execution_count": 19,
   "metadata": {},
   "outputs": [
    {
     "name": "stdout",
     "output_type": "stream",
     "text": [
      "{'_id': ObjectId('5e91d681dcf1084ba105f58d'), 'brand': 'Sony', 'product': 'Speakers'}\n",
      "{'_id': ObjectId('5e91da28dcf1084ba105f595'), 'brand': 'Sony', 'product': 'Video Games'}\n",
      "{'_id': ObjectId('5e91da28dcf1084ba105f594'), 'brand': 'Samsang', 'product': 'Radios'}\n",
      "{'_id': ObjectId('5e91d681dcf1084ba105f58e'), 'brand': 'LG', 'product': 'Radios'}\n",
      "{'_id': ObjectId('5e91da28dcf1084ba105f598'), 'brand': 'LG', 'product': 'Radios'}\n",
      "{'_id': ObjectId('5e91d681dcf1084ba105f58c'), 'brand': 'Hp', 'product': 'Desktops'}\n",
      "{'_id': ObjectId('5e91da28dcf1084ba105f596'), 'brand': 'Hp', 'product': 'Laser Printers'}\n",
      "{'_id': ObjectId('5e91d681dcf1084ba105f58a'), 'brand': 'Dell', 'product': 'Laptop'}\n",
      "{'_id': ObjectId('5e91da28dcf1084ba105f597'), 'brand': 'Canon', 'product': 'Camcorders'}\n",
      "{'_id': ObjectId('5e91d681dcf1084ba105f58b'), 'brand': 'Apple', 'product': 'Cellphones'}\n"
     ]
    }
   ],
   "source": [
    "myclient = pymongo.MongoClient(\"mongodb://localhost:27017/\")\n",
    "mydb = myclient[\"DataTracker\"]\n",
    "mycol = mydb[\"top_3_products\"]\n",
    "\n",
    "mydoc = mycol.find().sort(\"brand\", -1)\n",
    "\n",
    "for x in mydoc:\n",
    "  print(x)"
   ]
  },
  {
   "cell_type": "code",
   "execution_count": 8,
   "metadata": {},
   "outputs": [
    {
     "data": {
      "text/plain": [
       "<pymongo.results.DeleteResult at 0x1c6321185e8>"
      ]
     },
     "execution_count": 8,
     "metadata": {},
     "output_type": "execute_result"
    }
   ],
   "source": [
    "#Delete 2 brands from your collection of top 3 products.\n",
    "\n",
    "myclient = pymongo.MongoClient(\"mongodb://localhost:27017/\")\n",
    "mydb = myclient[\"DataTracker\"]\n",
    "mycol = mydb[\"top_3_products\"]\n",
    "\n",
    "myquery = { \"brand\": \"LG\",\"product\" }\n",
    "\n",
    "mycol.delete_one(myquery)"
   ]
  },
  {
   "cell_type": "code",
   "execution_count": 9,
   "metadata": {},
   "outputs": [
    {
     "data": {
      "text/plain": [
       "<pymongo.results.DeleteResult at 0x1c632118188>"
      ]
     },
     "execution_count": 9,
     "metadata": {},
     "output_type": "execute_result"
    }
   ],
   "source": [
    "#Delete 2 brands from your collection of top 3 products.\n",
    "\n",
    "myclient = pymongo.MongoClient(\"mongodb://localhost:27017/\")\n",
    "mydb = myclient[\"DataTracker\"]\n",
    "mycol = mydb[\"top_3_products\"]\n",
    "\n",
    "myquery = { \"brand\": \"Apple\",\"product\" }\n",
    "\n",
    "mycol.delete_one(myquery)"
   ]
  },
  {
   "cell_type": "code",
   "execution_count": 7,
   "metadata": {},
   "outputs": [
    {
     "name": "stdout",
     "output_type": "stream",
     "text": [
      "[ObjectId('5e949cc8dcf1088368dd9983')]\n"
     ]
    }
   ],
   "source": [
    "#Update 1 product and its brands from your collection you created in question \n",
    "myclient = pymongo.MongoClient(\"mongodb://localhost:27017/\")   \n",
    "\n",
    "mydb = myclient[\"DataTracker\"]                       \n",
    "\n",
    "mycol = mydb[\"top 3 products\"]\n",
    "\n",
    "mylist = [            \n",
    "\n",
    " { \"product\": \"Cellphone\", \"brand\": \"Apple\" },\n",
    "\n",
    "]\n",
    "\n",
    "x = mycol.insert_many(mylist)\n",
    "\n",
    "print(x.inserted_ids)"
   ]
  },
  {
   "cell_type": "code",
   "execution_count": 5,
   "metadata": {},
   "outputs": [
    {
     "name": "stdout",
     "output_type": "stream",
     "text": [
      "{'_id': ObjectId('5e91d681dcf1084ba105f58c'), 'brand': 'Hp', 'product': 'Desktops'}\n"
     ]
    }
   ],
   "source": [
    "import pymongo\n",
    "\n",
    "myclient = pymongo.MongoClient(\"mongodb://localhost:27017/\")\n",
    "mydb = myclient[\"DataTracker\"]\n",
    "mycol = mydb[\"top_3_products\"]\n",
    "\n",
    "myquery = { \"product\": {\"$regex\": \"^D\"} }\n",
    "\n",
    "mydoc = mycol.find(myquery)\n",
    "\n",
    "for x in mydoc:\n",
    "    print(x)"
   ]
  },
  {
   "cell_type": "code",
   "execution_count": 6,
   "metadata": {},
   "outputs": [
    {
     "name": "stdout",
     "output_type": "stream",
     "text": [
      "{'_id': ObjectId('5e949b10fd8273ada891c92f'), 'Brand': 'LG', 'Product': 'Cellphones, Laptops, TV, Microwave'}\n",
      "{'_id': ObjectId('5e949b10fd8273ada891c930'), 'Brand': 'Hp', 'Product': 'Computer, Laptops, Laser Printers'}\n",
      "{'_id': ObjectId('5e949b10fd8273ada891c931'), 'Brand': 'Dell', 'Product': 'Computers, Laptops, Digital Jukebox.'}\n",
      "{'_id': ObjectId('5e949b10fd8273ada891c932'), 'Brand': 'Apple', 'Product': 'Cellphones, Desktops, Laptops, Watch'}\n",
      "{'_id': ObjectId('5e949b10fd8273ada891c933'), 'Brand': 'Lenovo', 'Product': 'Desktops, Laptops, Tablet, TVs'}\n"
     ]
    }
   ],
   "source": [
    "#Track (Search/Filter) for the least 5 brands in your products.\n",
    "import pymongo\n",
    "\n",
    "myclient = pymongo.MongoClient(\"mongodb://localhost:27017/\")\n",
    "mydb = myclient[\"DataTracker\"]\n",
    "mycol = mydb[\"product\"]\n",
    "\n",
    "myresult = mycol.find().limit(5)\n",
    "\n",
    "#print the result:\n",
    "for x in myresult:\n",
    "  print(x)"
   ]
  },
  {
   "cell_type": "code",
   "execution_count": null,
   "metadata": {},
   "outputs": [],
   "source": []
  }
 ],
 "metadata": {
  "kernelspec": {
   "display_name": "Python 3",
   "language": "python",
   "name": "python3"
  },
  "language_info": {
   "codemirror_mode": {
    "name": "ipython",
    "version": 3
   },
   "file_extension": ".py",
   "mimetype": "text/x-python",
   "name": "python",
   "nbconvert_exporter": "python",
   "pygments_lexer": "ipython3",
   "version": "3.7.6"
  }
 },
 "nbformat": 4,
 "nbformat_minor": 2
}
